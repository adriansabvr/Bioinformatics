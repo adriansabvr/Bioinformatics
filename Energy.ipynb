{
 "cells": [
  {
   "cell_type": "code",
   "execution_count": 1,
   "id": "53c2ce5b",
   "metadata": {},
   "outputs": [
    {
     "name": "stdout",
     "output_type": "stream",
     "text": [
      "Collecting pandas\n",
      "  Downloading pandas-1.3.5-cp37-cp37m-manylinux_2_17_x86_64.manylinux2014_x86_64.whl (11.3 MB)\n",
      "\u001b[2K     \u001b[90m━━━━━━━━━━━━━━━━━━━━━━━━━━━━━━━━━━━━━━━━\u001b[0m \u001b[32m11.3/11.3 MB\u001b[0m \u001b[31m1.8 MB/s\u001b[0m eta \u001b[36m0:00:00\u001b[0m00:01\u001b[0m00:01\u001b[0m\n",
      "\u001b[?25hRequirement already satisfied: python-dateutil>=2.7.3 in /opt/conda/lib/python3.7/site-packages (from pandas) (2.8.2)\n",
      "Requirement already satisfied: numpy>=1.17.3 in /opt/conda/lib/python3.7/site-packages (from pandas) (1.21.6)\n",
      "Requirement already satisfied: pytz>=2017.3 in /opt/conda/lib/python3.7/site-packages (from pandas) (2022.1)\n",
      "Requirement already satisfied: six>=1.5 in /opt/conda/lib/python3.7/site-packages (from python-dateutil>=2.7.3->pandas) (1.16.0)\n",
      "Installing collected packages: pandas\n",
      "Successfully installed pandas-1.3.5\n"
     ]
    }
   ],
   "source": [
    "!pip install pandas"
   ]
  },
  {
   "cell_type": "code",
   "execution_count": 2,
   "id": "e176eaa4",
   "metadata": {},
   "outputs": [
    {
     "name": "stdout",
     "output_type": "stream",
     "text": [
      "Collecting PeptideBuilder\n",
      "  Downloading PeptideBuilder-1.1.0-py3-none-any.whl (14 kB)\n",
      "Requirement already satisfied: Biopython in /opt/conda/lib/python3.7/site-packages (from PeptideBuilder) (1.79)\n",
      "Requirement already satisfied: numpy in /opt/conda/lib/python3.7/site-packages (from Biopython->PeptideBuilder) (1.21.6)\n",
      "Installing collected packages: PeptideBuilder\n",
      "Successfully installed PeptideBuilder-1.1.0\n"
     ]
    }
   ],
   "source": [
    "!pip install PeptideBuilder"
   ]
  },
  {
   "cell_type": "code",
   "execution_count": 3,
   "id": "561ec421",
   "metadata": {},
   "outputs": [
    {
     "name": "stdout",
     "output_type": "stream",
     "text": [
      "Collecting parmed\n",
      "  Downloading ParmEd-3.4.3.tar.gz (2.6 MB)\n",
      "\u001b[2K     \u001b[90m━━━━━━━━━━━━━━━━━━━━━━━━━━━━━━━━━━━━━━━━\u001b[0m \u001b[32m2.6/2.6 MB\u001b[0m \u001b[31m1.8 MB/s\u001b[0m eta \u001b[36m0:00:00\u001b[0m00:01\u001b[0m00:01\u001b[0m\n",
      "\u001b[?25h  Preparing metadata (setup.py) ... \u001b[?25ldone\n",
      "\u001b[?25hBuilding wheels for collected packages: parmed\n",
      "  Building wheel for parmed (setup.py) ... \u001b[?25ldone\n",
      "\u001b[?25h  Created wheel for parmed: filename=ParmEd-3.4.3-cp37-cp37m-linux_x86_64.whl size=835168 sha256=85a27aa9560ae4b951d6617498393669cbdec0cdd1d016911dbb7e2032ba2faf\n",
      "  Stored in directory: /home/jovyan/.cache/pip/wheels/2f/26/b3/8cb8da47601e3057598009e903ba5d71e3a8ff08bcbc65cd1e\n",
      "Successfully built parmed\n",
      "Installing collected packages: parmed\n",
      "Successfully installed parmed-3.4.3\n"
     ]
    }
   ],
   "source": [
    "!pip install parmed"
   ]
  },
  {
   "cell_type": "code",
   "execution_count": 4,
   "id": "59c259b8",
   "metadata": {},
   "outputs": [
    {
     "data": {
      "application/vnd.jupyter.widget-view+json": {
       "model_id": "430273b24f884a3fa3929fd1648306eb",
       "version_major": 2,
       "version_minor": 0
      },
      "text/plain": []
     },
     "metadata": {},
     "output_type": "display_data"
    }
   ],
   "source": [
    "import warnings\n",
    "warnings.filterwarnings('ignore')\n",
    "import nglview\n",
    "from PeptideBuilder import Geometry\n",
    "import PeptideBuilder\n",
    "import Bio.PDB\n",
    "import pymol\n",
    "from Bio.PDB import *"
   ]
  },
  {
   "cell_type": "code",
   "execution_count": 5,
   "id": "4ce02be3",
   "metadata": {},
   "outputs": [],
   "source": [
    "def build_peptide(aa_str, add_oxt=True, add_hyd=False):\n",
    "    aa_str = str(aa_str)\n",
    "    \n",
    "    if len(aa_str) < 1:\n",
    "        return None\n",
    "    \n",
    "    geo = Geometry.geometry(aa_str[0])\n",
    "    structure = PeptideBuilder.initialize_res(geo)\n",
    "    \n",
    "    for aa in aa_str[1:]:\n",
    "        geo = Geometry.geometry(aa)\n",
    "        PeptideBuilder.add_residue(structure, geo)\n",
    "    \n",
    "    if add_oxt:\n",
    "        PeptideBuilder.add_terminal_OXT(structure)\n",
    "    \n",
    "    out = Bio.PDB.PDBIO()\n",
    "    out.set_structure(structure)\n",
    "    out.save(\"temp1.pdb\")\n",
    "    \n",
    "    # Add hydrogens with pymol\n",
    "    if add_hyd:\n",
    "        pymol.cmd.load('temp1.pdb', aa_str)\n",
    "        pymol.cmd.h_add()\n",
    "        pymol.cmd.save('temp1.pdb')\n",
    "        pymol.cmd.remove('all')\n",
    "    \n",
    "        parser = Bio.PDB.PDBParser()\n",
    "        structure = parser.get_structure(\"structure\", \"temp1.pdb\")\n",
    "        \n",
    "    return structure\n",
    "        "
   ]
  },
  {
   "cell_type": "code",
   "execution_count": 6,
   "id": "2b10e596",
   "metadata": {},
   "outputs": [],
   "source": [
    "structure = build_peptide(\"A\"*10)"
   ]
  },
  {
   "cell_type": "code",
   "execution_count": 7,
   "id": "e3002cda",
   "metadata": {},
   "outputs": [
    {
     "data": {
      "application/vnd.jupyter.widget-view+json": {
       "model_id": "27bfea2d14904f018ecebf17e29c89f2",
       "version_major": 2,
       "version_minor": 0
      },
      "text/plain": [
       "NGLWidget()"
      ]
     },
     "metadata": {},
     "output_type": "display_data"
    }
   ],
   "source": [
    "view = nglview.show_biopython(structure)\n",
    "view.add_ball_and_stick()\n",
    "view"
   ]
  },
  {
   "cell_type": "markdown",
   "id": "9d0557a1",
   "metadata": {},
   "source": [
    "# Simulation"
   ]
  },
  {
   "cell_type": "code",
   "execution_count": 8,
   "id": "c40cf238",
   "metadata": {},
   "outputs": [],
   "source": [
    "i = 0"
   ]
  },
  {
   "cell_type": "code",
   "execution_count": 9,
   "id": "6cb7df6b",
   "metadata": {},
   "outputs": [
    {
     "name": "stderr",
     "output_type": "stream",
     "text": [
      "Warning: importing 'simtk.openmm' is deprecated.  Import 'openmm' instead.\n"
     ]
    }
   ],
   "source": [
    "import parmed\n",
    "import matplotlib.pyplot as plt\n",
    "import mdtraj\n",
    "import nglview\n",
    "import numpy as np\n",
    "from openmm import *\n",
    "from openmm.app import *\n",
    "from openmm.unit import *\n",
    "\n",
    "def simulation(i):\n",
    "    from sys import stdout\n",
    "\n",
    "\n",
    "    pdb = PDBFile('temp1.pdb')\n",
    "    modeller = Modeller(pdb.topology, pdb.positions)\n",
    "    forcefield = ForceField('amber14-all.xml', 'amber14/tip3pfb.xml')\n",
    "    modeller.addHydrogens(forcefield)\n",
    "    modeller.addSolvent(forcefield, model='tip3p', padding=0.3*nanometer)\n",
    "    modeller.deleteWater()\n",
    "    print(modeller.topology)\n",
    "\n",
    "    # Write a PDB file to provide a topology of the solvated\n",
    "    # system to MDTraj below.\n",
    "    with open(f'init{i}.pdb', 'w') as outfile:\n",
    "        PDBFile.writeFile(modeller.topology, modeller.positions, outfile)\n",
    "\n",
    "    # The modeller builds a periodic box with the solute and solvent molecules.\n",
    "    # PME is the method to compute long-range electristatic interactions in\n",
    "    # periodic systems.\n",
    "    system = forcefield.createSystem(\n",
    "        modeller.topology, nonbondedMethod=PME, constraints=HBonds)\n",
    "    temperature = 300 * kelvin\n",
    "    pressure = 1 * bar\n",
    "    integrator = LangevinIntegrator(temperature, 1/picosecond, 2*femtoseconds)\n",
    "    system.addForce(MonteCarloBarostat(pressure, temperature))\n",
    "    simulation = Simulation(modeller.topology, system, integrator)\n",
    "    simulation.context.setPositions(modeller.positions)\n",
    "    simulation.minimizeEnergy()\n",
    "    simulation.reporters.append(DCDReporter(f'traj{i}.dcd', 100))\n",
    "\n",
    "    #simulation.reporters.append(StateDataReporter(stdout, 1000, step=True,\n",
    "    #                                              temperature=True, elapsedTime=True))\n",
    "    simulation.reporters.append(StateDataReporter(stdout, 1000, step=True,\n",
    "            potentialEnergy=True, temperature=True))\n",
    "    #simulation.reporters.append(parmed.openmm.StateDataReporter(stdout, 1000, step=True,\n",
    "    #                                              temperature=False))\n",
    "\n",
    "    simulation.reporters.append(StateDataReporter(f\"scalars{i}.csv\", 1000, time=True, kineticEnergy=True,\n",
    "                                                  potentialEnergy=True, totalEnergy=True, temperature=True))\n",
    "    simulation.step(10000)\n",
    "\n",
    "    # The last line is only needed for Windows users,\n",
    "    # to close the DCD file before it can be opened by nglview.\n",
    "    del simulation"
   ]
  },
  {
   "cell_type": "code",
   "execution_count": 10,
   "id": "1a36a960",
   "metadata": {},
   "outputs": [
    {
     "name": "stdout",
     "output_type": "stream",
     "text": [
      "<Topology; 1 chains, 10 residues, 103 atoms, 102 bonds>\n",
      "#\"Step\",\"Potential Energy (kJ/mole)\",\"Temperature (K)\"\n",
      "1000,396.97948977580427,262.0762585452668\n",
      "2000,445.1541687917975,285.24317159704214\n",
      "3000,412.3607746823732,320.8937054261033\n",
      "4000,292.6674952769099,312.922761274518\n",
      "5000,123.09094405675523,317.8596545473115\n",
      "6000,84.67981187740816,315.6065472653644\n",
      "7000,130.88666831112005,317.5891402965934\n",
      "8000,117.34812358035924,356.3217776998018\n",
      "9000,118.16266439152469,299.6773104777109\n",
      "10000,110.60913463462566,307.60921660042266\n"
     ]
    }
   ],
   "source": [
    "simulation(i)"
   ]
  },
  {
   "cell_type": "code",
   "execution_count": 11,
   "id": "00634eff",
   "metadata": {},
   "outputs": [],
   "source": [
    " i+=1"
   ]
  },
  {
   "cell_type": "code",
   "execution_count": 12,
   "id": "f1a64df4",
   "metadata": {},
   "outputs": [
    {
     "data": {
      "application/vnd.jupyter.widget-view+json": {
       "model_id": "52cf34e426e74fcbaa1f161493dbe125",
       "version_major": 2,
       "version_minor": 0
      },
      "text/plain": [
       "NGLWidget(max_frame=99)"
      ]
     },
     "metadata": {},
     "output_type": "display_data"
    }
   ],
   "source": [
    "traj = mdtraj.load(f'traj{i-1}.dcd', top=f'init{i-1}.pdb')\n",
    "view = nglview.show_mdtraj(traj)\n",
    "view.clear_representations()\n",
    "view.add_licorice()\n",
    "view"
   ]
  },
  {
   "cell_type": "code",
   "execution_count": 13,
   "id": "b767f841",
   "metadata": {},
   "outputs": [
    {
     "data": {
      "text/html": [
       "<div>\n",
       "<style scoped>\n",
       "    .dataframe tbody tr th:only-of-type {\n",
       "        vertical-align: middle;\n",
       "    }\n",
       "\n",
       "    .dataframe tbody tr th {\n",
       "        vertical-align: top;\n",
       "    }\n",
       "\n",
       "    .dataframe thead th {\n",
       "        text-align: right;\n",
       "    }\n",
       "</style>\n",
       "<table border=\"1\" class=\"dataframe\">\n",
       "  <thead>\n",
       "    <tr style=\"text-align: right;\">\n",
       "      <th></th>\n",
       "      <th>#\"Time (ps)\"</th>\n",
       "      <th>Potential Energy (kJ/mole)</th>\n",
       "      <th>Kinetic Energy (kJ/mole)</th>\n",
       "      <th>Total Energy (kJ/mole)</th>\n",
       "      <th>Temperature (K)</th>\n",
       "    </tr>\n",
       "  </thead>\n",
       "  <tbody>\n",
       "    <tr>\n",
       "      <th>0</th>\n",
       "      <td>2.0</td>\n",
       "      <td>396.979490</td>\n",
       "      <td>276.735953</td>\n",
       "      <td>673.715443</td>\n",
       "      <td>262.076259</td>\n",
       "    </tr>\n",
       "    <tr>\n",
       "      <th>1</th>\n",
       "      <td>4.0</td>\n",
       "      <td>445.154169</td>\n",
       "      <td>301.198748</td>\n",
       "      <td>746.352917</td>\n",
       "      <td>285.243172</td>\n",
       "    </tr>\n",
       "    <tr>\n",
       "      <th>2</th>\n",
       "      <td>6.0</td>\n",
       "      <td>412.360775</td>\n",
       "      <td>338.843457</td>\n",
       "      <td>751.204232</td>\n",
       "      <td>320.893705</td>\n",
       "    </tr>\n",
       "    <tr>\n",
       "      <th>3</th>\n",
       "      <td>8.0</td>\n",
       "      <td>292.667495</td>\n",
       "      <td>330.426644</td>\n",
       "      <td>623.094140</td>\n",
       "      <td>312.922761</td>\n",
       "    </tr>\n",
       "    <tr>\n",
       "      <th>4</th>\n",
       "      <td>10.0</td>\n",
       "      <td>123.090944</td>\n",
       "      <td>335.639691</td>\n",
       "      <td>458.730635</td>\n",
       "      <td>317.859655</td>\n",
       "    </tr>\n",
       "  </tbody>\n",
       "</table>\n",
       "</div>"
      ],
      "text/plain": [
       "   #\"Time (ps)\"  Potential Energy (kJ/mole)  Kinetic Energy (kJ/mole)  \\\n",
       "0           2.0                  396.979490                276.735953   \n",
       "1           4.0                  445.154169                301.198748   \n",
       "2           6.0                  412.360775                338.843457   \n",
       "3           8.0                  292.667495                330.426644   \n",
       "4          10.0                  123.090944                335.639691   \n",
       "\n",
       "   Total Energy (kJ/mole)  Temperature (K)  \n",
       "0              673.715443       262.076259  \n",
       "1              746.352917       285.243172  \n",
       "2              751.204232       320.893705  \n",
       "3              623.094140       312.922761  \n",
       "4              458.730635       317.859655  "
      ]
     },
     "execution_count": 13,
     "metadata": {},
     "output_type": "execute_result"
    }
   ],
   "source": [
    "import pandas as pd\n",
    "df = pd.read_csv(f\"scalars{i-1}.csv\")\n",
    "df.head()"
   ]
  },
  {
   "cell_type": "markdown",
   "id": "946db1ca",
   "metadata": {},
   "source": [
    "## Energy"
   ]
  },
  {
   "cell_type": "code",
   "execution_count": 42,
   "id": "476835ed",
   "metadata": {},
   "outputs": [],
   "source": [
    "from openmm.app import *\n",
    "from openmm import *\n",
    "from openmm.unit import *\n",
    "\n",
    "pdb = PDBFile('temp1.pdb')\n",
    "forcefield = ForceField('amber14-all.xml')\n",
    "\n",
    "modeller = Modeller(pdb.topology, pdb.positions)\n",
    "forcefield = ForceField('amber14-all.xml', 'amber14/tip3pfb.xml')\n",
    "modeller.addHydrogens(forcefield)\n",
    "modeller.addSolvent(forcefield, model='tip3p', padding=0.3*nanometer)\n",
    "modeller.deleteWater()\n",
    "\n",
    "system = forcefield.createSystem(modeller.topology)"
   ]
  },
  {
   "cell_type": "code",
   "execution_count": 43,
   "id": "694ed168",
   "metadata": {},
   "outputs": [
    {
     "name": "stdout",
     "output_type": "stream",
     "text": [
      "0 <openmm.openmm.HarmonicBondForce; proxy of <Swig Object of type 'OpenMM::HarmonicBondForce *' at 0x7f47d4d6efc0> >\n",
      "1 <openmm.openmm.HarmonicAngleForce; proxy of <Swig Object of type 'OpenMM::HarmonicAngleForce *' at 0x7f47d4d6eb70> >\n",
      "2 <openmm.openmm.NonbondedForce; proxy of <Swig Object of type 'OpenMM::NonbondedForce *' at 0x7f47d4d6ee10> >\n",
      "3 <openmm.openmm.PeriodicTorsionForce; proxy of <Swig Object of type 'OpenMM::PeriodicTorsionForce *' at 0x7f47d4d6eab0> >\n",
      "4 <openmm.openmm.CMMotionRemover; proxy of <Swig Object of type 'OpenMM::CMMotionRemover *' at 0x7f47d4d6eba0> >\n"
     ]
    }
   ],
   "source": [
    "for i, f in enumerate(system.getForces()):\n",
    "    print(i, f)\n",
    "    f.setForceGroup(i)"
   ]
  },
  {
   "cell_type": "code",
   "execution_count": 44,
   "id": "e5030ed5",
   "metadata": {},
   "outputs": [],
   "source": [
    "integrator = LangevinMiddleIntegrator(300*kelvin, 1/picosecond, 0.004*picoseconds)\n",
    "simulation = Simulation(modeller.topology, system, integrator)\n",
    "simulation.context.setPositions(modeller.positions)"
   ]
  },
  {
   "cell_type": "code",
   "execution_count": 45,
   "id": "1a1e83d1",
   "metadata": {},
   "outputs": [
    {
     "name": "stdout",
     "output_type": "stream",
     "text": [
      "HarmonicBondForce 5.0138750076293945 kJ/mol\n",
      "HarmonicAngleForce 19.22382354736328 kJ/mol\n",
      "NonbondedForce 22.4150390625 kJ/mol\n",
      "PeriodicTorsionForce 284.3539733886719 kJ/mol\n",
      "CMMotionRemover 0.0 kJ/mol\n"
     ]
    }
   ],
   "source": [
    "for i, f in enumerate(system.getForces()):\n",
    "    state = simulation.context.getState(getEnergy=True, groups={i})\n",
    "    print(f.getName(), state.getPotentialEnergy())"
   ]
  },
  {
   "cell_type": "code",
   "execution_count": 41,
   "id": "54daede4",
   "metadata": {},
   "outputs": [
    {
     "data": {
      "text/plain": [
       "Quantity(value=325.747314453125, unit=kilojoule/mole)"
      ]
     },
     "execution_count": 41,
     "metadata": {},
     "output_type": "execute_result"
    }
   ],
   "source": [
    "energy = simulation.context.getState(getEnergy=True, groups={1,2,3}).getPotentialEnergy()\n",
    "energy"
   ]
  },
  {
   "cell_type": "code",
   "execution_count": 24,
   "id": "8a1b6898",
   "metadata": {},
   "outputs": [],
   "source": [
    "#model = modify(structure, 5, \"psi\", 20)"
   ]
  },
  {
   "cell_type": "markdown",
   "id": "a760cad6",
   "metadata": {},
   "source": [
    "## DR"
   ]
  },
  {
   "cell_type": "code",
   "execution_count": 15,
   "id": "f683f17d",
   "metadata": {},
   "outputs": [],
   "source": [
    "def modify(structure, residue, diangle, angle_value):\n",
    "    models = Selection.unfold_entities(structure, \"M\")\n",
    "    model = models[0]\n",
    "    model.atom_to_internal_coordinates()\n",
    "    \n",
    "    residues = Selection.unfold_entities(structure, \"R\")\n",
    "    residue = residues[residue]\n",
    "    \n",
    "    diangle = residue.internal_coord.pick_angle(diangle)\n",
    "    residue.internal_coord.set_angle(diangle, angle_value)\n",
    "    model.internal_to_atom_coordinates()\n",
    "    \n",
    "    return model"
   ]
  },
  {
   "cell_type": "code",
   "execution_count": null,
   "id": "57d87223",
   "metadata": {},
   "outputs": [],
   "source": [
    "view = nglview.show_mdtraj(structure)\n",
    "view.clear_representations()\n",
    "view.add_licorice()\n",
    "view"
   ]
  }
 ],
 "metadata": {
  "kernelspec": {
   "display_name": "Python 3 (ipykernel)",
   "language": "python",
   "name": "python3"
  },
  "language_info": {
   "codemirror_mode": {
    "name": "ipython",
    "version": 3
   },
   "file_extension": ".py",
   "mimetype": "text/x-python",
   "name": "python",
   "nbconvert_exporter": "python",
   "pygments_lexer": "ipython3",
   "version": "3.7.12"
  }
 },
 "nbformat": 4,
 "nbformat_minor": 5
}
